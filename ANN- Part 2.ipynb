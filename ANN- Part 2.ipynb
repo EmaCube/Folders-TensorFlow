{
 "cells": [
  {
   "cell_type": "code",
   "execution_count": 1,
   "id": "235b73a3",
   "metadata": {},
   "outputs": [],
   "source": [
    "import numpy as np\n",
    "import pandas as pd\n",
    "%matplotlib inline\n",
    "import matplotlib as mpl\n",
    "import matplotlib.pyplot as plt"
   ]
  },
  {
   "cell_type": "code",
   "execution_count": 2,
   "id": "0d81cb14",
   "metadata": {},
   "outputs": [],
   "source": [
    "import tensorflow as tf\n",
    "from tensorflow import keras"
   ]
  },
  {
   "cell_type": "code",
   "execution_count": 3,
   "id": "28783093",
   "metadata": {},
   "outputs": [],
   "source": [
    "from sklearn.datasets import fetch_california_housing\n",
    "housing = fetch_california_housing()"
   ]
  },
  {
   "cell_type": "markdown",
   "id": "88c4211e",
   "metadata": {},
   "source": [
    "# Documentation\n",
    "https://scikit-learn.org/stable/modules/generated/sklearn.datasets.fetch_california_housing.html#examples-using-sklearn-datasets-fetch-california-housing"
   ]
  },
  {
   "cell_type": "code",
   "execution_count": 6,
   "id": "1560f696",
   "metadata": {},
   "outputs": [
    {
     "name": "stdout",
     "output_type": "stream",
     "text": [
      "['MedInc', 'HouseAge', 'AveRooms', 'AveBedrms', 'Population', 'AveOccup', 'Latitude', 'Longitude']\n"
     ]
    }
   ],
   "source": [
    "print(housing.feature_names)"
   ]
  },
  {
   "cell_type": "code",
   "execution_count": 7,
   "id": "eba5dce9",
   "metadata": {},
   "outputs": [],
   "source": [
    "from sklearn.model_selection import train_test_split\n",
    "X_train_full, X_test, y_train_full, y_test = train_test_split(housing.data, housing.target, random_state=42)\n",
    "X_train, X_valid, y_train, y_valid = train_test_split(X_train_full, y_train_full, random_state=42)"
   ]
  },
  {
   "cell_type": "code",
   "execution_count": 8,
   "id": "7d92966a",
   "metadata": {},
   "outputs": [],
   "source": [
    "from sklearn.preprocessing import StandardScaler\n",
    "scaler = StandardScaler()\n",
    "X_train = scaler.fit_transform(X_train)\n",
    "X_valid = scaler.transform(X_valid)\n",
    "X_test = scaler.transform(X_test)"
   ]
  },
  {
   "cell_type": "code",
   "execution_count": 9,
   "id": "7d47b351",
   "metadata": {},
   "outputs": [],
   "source": [
    "np.random.seed(42)\n",
    "tf.random.set_seed(42)"
   ]
  },
  {
   "cell_type": "code",
   "execution_count": 10,
   "id": "ccd0889f",
   "metadata": {},
   "outputs": [
    {
     "data": {
      "text/plain": [
       "(11610, 8)"
      ]
     },
     "execution_count": 10,
     "metadata": {},
     "output_type": "execute_result"
    }
   ],
   "source": [
    "X_train.shape"
   ]
  },
  {
   "cell_type": "code",
   "execution_count": 12,
   "id": "220c23e1",
   "metadata": {},
   "outputs": [],
   "source": [
    "model = keras.models.Sequential([\n",
    "    keras.layers.Dense(30, activation=\"relu\", input_shape=[8]),\n",
    "    keras.layers.Dense(30, activation=\"relu\"),\n",
    "    keras.layers.Dense(1)\n",
    "])"
   ]
  },
  {
   "cell_type": "code",
   "execution_count": 13,
   "id": "6597dad3",
   "metadata": {},
   "outputs": [
    {
     "name": "stdout",
     "output_type": "stream",
     "text": [
      "Model: \"sequential\"\n",
      "_________________________________________________________________\n",
      "Layer (type)                 Output Shape              Param #   \n",
      "=================================================================\n",
      "dense (Dense)                (None, 30)                270       \n",
      "_________________________________________________________________\n",
      "dense_1 (Dense)              (None, 30)                930       \n",
      "_________________________________________________________________\n",
      "dense_2 (Dense)              (None, 1)                 31        \n",
      "=================================================================\n",
      "Total params: 1,231\n",
      "Trainable params: 1,231\n",
      "Non-trainable params: 0\n",
      "_________________________________________________________________\n"
     ]
    }
   ],
   "source": [
    "model.summary()"
   ]
  },
  {
   "cell_type": "code",
   "execution_count": 14,
   "id": "aa3fcb12",
   "metadata": {},
   "outputs": [],
   "source": [
    "model.compile(loss=\"mean_squared_error\",\n",
    "             optimizer=keras.optimizers.SGD(lr=1e-3),\n",
    "             metrics=[\"mae\"])"
   ]
  },
  {
   "cell_type": "code",
   "execution_count": 18,
   "id": "5a76d25d",
   "metadata": {},
   "outputs": [
    {
     "name": "stdout",
     "output_type": "stream",
     "text": [
      "Epoch 1/20\n",
      "363/363 [==============================] - 0s 700us/step - loss: 0.3949 - mae: 0.4489 - val_loss: 0.3695 - val_mae: 0.4322\n",
      "Epoch 2/20\n",
      "363/363 [==============================] - 0s 637us/step - loss: 0.3922 - mae: 0.4469 - val_loss: 0.3698 - val_mae: 0.4350\n",
      "Epoch 3/20\n",
      "363/363 [==============================] - 0s 625us/step - loss: 0.3898 - mae: 0.4461 - val_loss: 0.3647 - val_mae: 0.4285\n",
      "Epoch 4/20\n",
      "363/363 [==============================] - 0s 631us/step - loss: 0.3873 - mae: 0.4439 - val_loss: 0.3632 - val_mae: 0.4309\n",
      "Epoch 5/20\n",
      "363/363 [==============================] - 0s 637us/step - loss: 0.3851 - mae: 0.4426 - val_loss: 0.3607 - val_mae: 0.4276\n",
      "Epoch 6/20\n",
      "363/363 [==============================] - 0s 689us/step - loss: 0.3829 - mae: 0.4415 - val_loss: 0.3586 - val_mae: 0.4247\n",
      "Epoch 7/20\n",
      "363/363 [==============================] - 0s 714us/step - loss: 0.3808 - mae: 0.4398 - val_loss: 0.3563 - val_mae: 0.4240\n",
      "Epoch 8/20\n",
      "363/363 [==============================] - 0s 642us/step - loss: 0.3788 - mae: 0.4385 - val_loss: 0.3559 - val_mae: 0.4228\n",
      "Epoch 9/20\n",
      "363/363 [==============================] - 0s 648us/step - loss: 0.3768 - mae: 0.4375 - val_loss: 0.3549 - val_mae: 0.4208\n",
      "Epoch 10/20\n",
      "363/363 [==============================] - 0s 633us/step - loss: 0.3749 - mae: 0.4359 - val_loss: 0.3526 - val_mae: 0.4193\n",
      "Epoch 11/20\n",
      "363/363 [==============================] - 0s 634us/step - loss: 0.3732 - mae: 0.4347 - val_loss: 0.3495 - val_mae: 0.4198\n",
      "Epoch 12/20\n",
      "363/363 [==============================] - 0s 623us/step - loss: 0.3715 - mae: 0.4336 - val_loss: 0.3549 - val_mae: 0.4194\n",
      "Epoch 13/20\n",
      "363/363 [==============================] - 0s 625us/step - loss: 0.3700 - mae: 0.4327 - val_loss: 0.3515 - val_mae: 0.4206\n",
      "Epoch 14/20\n",
      "363/363 [==============================] - 0s 623us/step - loss: 0.3684 - mae: 0.4315 - val_loss: 0.3468 - val_mae: 0.4187\n",
      "Epoch 15/20\n",
      "363/363 [==============================] - 0s 650us/step - loss: 0.3671 - mae: 0.4307 - val_loss: 0.3674 - val_mae: 0.4211\n",
      "Epoch 16/20\n",
      "363/363 [==============================] - 0s 692us/step - loss: 0.3659 - mae: 0.4305 - val_loss: 0.3437 - val_mae: 0.4162\n",
      "Epoch 17/20\n",
      "363/363 [==============================] - 0s 689us/step - loss: 0.3648 - mae: 0.4294 - val_loss: 0.3583 - val_mae: 0.4170\n",
      "Epoch 18/20\n",
      "363/363 [==============================] - 0s 725us/step - loss: 0.3635 - mae: 0.4284 - val_loss: 0.3507 - val_mae: 0.4146\n",
      "Epoch 19/20\n",
      "363/363 [==============================] - 0s 628us/step - loss: 0.3622 - mae: 0.4272 - val_loss: 0.3451 - val_mae: 0.4143\n",
      "Epoch 20/20\n",
      "363/363 [==============================] - 0s 625us/step - loss: 0.3613 - mae: 0.4269 - val_loss: 0.3852 - val_mae: 0.4192\n"
     ]
    }
   ],
   "source": [
    "model_history = model.fit(X_train, y_train, epochs=20,validation_data=(X_valid, y_valid))"
   ]
  },
  {
   "cell_type": "code",
   "execution_count": 19,
   "id": "5ae76964",
   "metadata": {},
   "outputs": [
    {
     "name": "stdout",
     "output_type": "stream",
     "text": [
      "  1/162 [..............................] - ETA: 0s - loss: 0.3311 - mae: 0.4683WARNING:tensorflow:Callbacks method `on_test_batch_end` is slow compared to the batch time (batch time: 0.0000s vs `on_test_batch_end` time: 0.0010s). Check your callbacks.\n",
      "162/162 [==============================] - 0s 420us/step - loss: 0.3596 - mae: 0.4269\n"
     ]
    }
   ],
   "source": [
    "mae_test = model.evaluate(X_test, y_test)"
   ]
  },
  {
   "cell_type": "code",
   "execution_count": 20,
   "id": "a84fc81d",
   "metadata": {},
   "outputs": [
    {
     "data": {
      "text/plain": [
       "{'loss': [0.3948921859264374,\n",
       "  0.3922426700592041,\n",
       "  0.38980168104171753,\n",
       "  0.3872992992401123,\n",
       "  0.3851175904273987,\n",
       "  0.3828714191913605,\n",
       "  0.3807542324066162,\n",
       "  0.3787873089313507,\n",
       "  0.37684252858161926,\n",
       "  0.37485161423683167,\n",
       "  0.3732492923736572,\n",
       "  0.37154120206832886,\n",
       "  0.3699617087841034,\n",
       "  0.36844807863235474,\n",
       "  0.3671077489852905,\n",
       "  0.36586400866508484,\n",
       "  0.364767462015152,\n",
       "  0.36347660422325134,\n",
       "  0.36217090487480164,\n",
       "  0.3612859845161438],\n",
       " 'mae': [0.448872447013855,\n",
       "  0.4469223618507385,\n",
       "  0.4460664689540863,\n",
       "  0.4439034163951874,\n",
       "  0.4425695538520813,\n",
       "  0.4414599537849426,\n",
       "  0.4398252069950104,\n",
       "  0.43846991658210754,\n",
       "  0.43753182888031006,\n",
       "  0.4359447658061981,\n",
       "  0.43472516536712646,\n",
       "  0.43356847763061523,\n",
       "  0.43265366554260254,\n",
       "  0.43151575326919556,\n",
       "  0.43066665530204773,\n",
       "  0.43046438694000244,\n",
       "  0.42939263582229614,\n",
       "  0.42837896943092346,\n",
       "  0.42722663283348083,\n",
       "  0.42688435316085815],\n",
       " 'val_loss': [0.3695237636566162,\n",
       "  0.3698018789291382,\n",
       "  0.3646637797355652,\n",
       "  0.3632129728794098,\n",
       "  0.3606773912906647,\n",
       "  0.35861778259277344,\n",
       "  0.35634544491767883,\n",
       "  0.3559224009513855,\n",
       "  0.3549463450908661,\n",
       "  0.3526076674461365,\n",
       "  0.34950217604637146,\n",
       "  0.35491931438446045,\n",
       "  0.35146665573120117,\n",
       "  0.3468173146247864,\n",
       "  0.36744609475135803,\n",
       "  0.3437066376209259,\n",
       "  0.3583345115184784,\n",
       "  0.350708544254303,\n",
       "  0.34509706497192383,\n",
       "  0.3852340579032898],\n",
       " 'val_mae': [0.43215852975845337,\n",
       "  0.4350142180919647,\n",
       "  0.428478479385376,\n",
       "  0.430883526802063,\n",
       "  0.4276125431060791,\n",
       "  0.42469462752342224,\n",
       "  0.42398738861083984,\n",
       "  0.42283955216407776,\n",
       "  0.4207947552204132,\n",
       "  0.41933777928352356,\n",
       "  0.41980209946632385,\n",
       "  0.4194321930408478,\n",
       "  0.4205680191516876,\n",
       "  0.41870424151420593,\n",
       "  0.4210852086544037,\n",
       "  0.4162393808364868,\n",
       "  0.4169524013996124,\n",
       "  0.41462695598602295,\n",
       "  0.41430360078811646,\n",
       "  0.41919127106666565]}"
      ]
     },
     "execution_count": 20,
     "metadata": {},
     "output_type": "execute_result"
    }
   ],
   "source": [
    "model_history.history"
   ]
  },
  {
   "cell_type": "code",
   "execution_count": 21,
   "id": "fff2e255",
   "metadata": {},
   "outputs": [
    {
     "data": {
      "image/png": "[encoded data removed]",
      "text/plain": [
       "<Figure size 576x360 with 1 Axes>"
      ]
     },
     "metadata": {
      "needs_background": "light"
     },
     "output_type": "display_data"
    }
   ],
   "source": [
    "pd.DataFrame(model_history.history).plot(figsize=(8, 5))\n",
    "plt.grid(True)\n",
    "plt.gca().set_ylim(0, 1)\n",
    "\n",
    "plt.show()"
   ]
  },
  {
   "cell_type": "code",
   "execution_count": 22,
   "id": "7f1f01d0",
   "metadata": {},
   "outputs": [],
   "source": [
    "X_new = X_test[:3]"
   ]
  },
  {
   "cell_type": "code",
   "execution_count": 23,
   "id": "959ed6d0",
   "metadata": {},
   "outputs": [
    {
     "name": "stdout",
     "output_type": "stream",
     "text": [
      "[[0.6071852]\n",
      " [1.8601747]\n",
      " [3.7925048]]\n",
      "[0.477   0.458   5.00001]\n"
     ]
    }
   ],
   "source": [
    "y_pred = model.predict(X_new)\n",
    "print (y_pred)\n",
    "print (y_test[:3])"
   ]
  },
  {
   "cell_type": "code",
   "execution_count": 24,
   "id": "5c755bb0",
   "metadata": {},
   "outputs": [],
   "source": [
    "del model"
   ]
  },
  {
   "cell_type": "code",
   "execution_count": 26,
   "id": "132ba34c",
   "metadata": {},
   "outputs": [],
   "source": [
    "keras.backend.clear_session()"
   ]
  },
  {
   "cell_type": "code",
   "execution_count": 29,
   "id": "802d2322",
   "metadata": {},
   "outputs": [],
   "source": [
    "input_ = keras.layers.Input(shape=X_train.shape[1:])\n",
    "hidden1 = keras.layers.Dense(30, activation=\"relu\")(input_)\n",
    "hidden2 = keras.layers.Dense(30, activation=\"relu\")(hidden1)\n",
    "concat = keras.layers.concatenate([input_, hidden2])\n",
    "output = keras.layers.Dense(1)(concat)\n",
    "model = keras.models.Model(inputs=[input_], outputs=[output])"
   ]
  },
  {
   "cell_type": "code",
   "execution_count": 30,
   "id": "2acd8834",
   "metadata": {},
   "outputs": [
    {
     "name": "stdout",
     "output_type": "stream",
     "text": [
      "Model: \"functional_1\"\n",
      "__________________________________________________________________________________________________\n",
      "Layer (type)                    Output Shape         Param #     Connected to                     \n",
      "==================================================================================================\n",
      "input_2 (InputLayer)            [(None, 8)]          0                                            \n",
      "__________________________________________________________________________________________________\n",
      "dense_2 (Dense)                 (None, 30)           270         input_2[0][0]                    \n",
      "__________________________________________________________________________________________________\n",
      "dense_3 (Dense)                 (None, 30)           930         dense_2[0][0]                    \n",
      "__________________________________________________________________________________________________\n",
      "concatenate (Concatenate)       (None, 38)           0           input_2[0][0]                    \n",
      "                                                                 dense_3[0][0]                    \n",
      "__________________________________________________________________________________________________\n",
      "dense_4 (Dense)                 (None, 1)            39          concatenate[0][0]                \n",
      "==================================================================================================\n",
      "Total params: 1,239\n",
      "Trainable params: 1,239\n",
      "Non-trainable params: 0\n",
      "__________________________________________________________________________________________________\n"
     ]
    }
   ],
   "source": [
    "model.summary()"
   ]
  },
  {
   "cell_type": "code",
   "execution_count": 32,
   "id": "8c463be8",
   "metadata": {},
   "outputs": [],
   "source": [
    "model.compile(loss=\"mean_squared_error\",\n",
    "             optimizer=keras.optimizers.SGD(lr=1e-3),\n",
    "             metrics=['mae'])"
   ]
  },
  {
   "cell_type": "code",
   "execution_count": 37,
   "id": "3f6fc982",
   "metadata": {},
   "outputs": [
    {
     "name": "stdout",
     "output_type": "stream",
     "text": [
      "Epoch 1/40\n",
      "363/363 [==============================] - 0s 711us/step - loss: 0.3635 - mae: 0.4289 - val_loss: 0.3438 - val_mae: 0.4145\n",
      "Epoch 2/40\n",
      "363/363 [==============================] - 0s 637us/step - loss: 0.3625 - mae: 0.4280 - val_loss: 0.4691 - val_mae: 0.4254\n",
      "Epoch 3/40\n",
      "363/363 [==============================] - 0s 642us/step - loss: 0.3624 - mae: 0.4282 - val_loss: 0.3512 - val_mae: 0.4145\n",
      "Epoch 4/40\n",
      "363/363 [==============================] - 0s 639us/step - loss: 0.3603 - mae: 0.4267 - val_loss: 0.3525 - val_mae: 0.4183\n",
      "Epoch 5/40\n",
      "363/363 [==============================] - 0s 634us/step - loss: 0.3603 - mae: 0.4265 - val_loss: 0.3347 - val_mae: 0.4130\n",
      "Epoch 6/40\n",
      "363/363 [==============================] - 0s 642us/step - loss: 0.3585 - mae: 0.4259 - val_loss: 0.4665 - val_mae: 0.4201\n",
      "Epoch 7/40\n",
      "363/363 [==============================] - 0s 642us/step - loss: 0.3596 - mae: 0.4252 - val_loss: 0.3485 - val_mae: 0.4148\n",
      "Epoch 8/40\n",
      "363/363 [==============================] - 0s 639us/step - loss: 0.3577 - mae: 0.4251 - val_loss: 0.3362 - val_mae: 0.4113\n",
      "Epoch 9/40\n",
      "363/363 [==============================] - 0s 642us/step - loss: 0.3565 - mae: 0.4243 - val_loss: 0.3542 - val_mae: 0.4127\n",
      "Epoch 10/40\n",
      "363/363 [==============================] - 0s 642us/step - loss: 0.3560 - mae: 0.4239 - val_loss: 0.3624 - val_mae: 0.4117\n",
      "Epoch 11/40\n",
      "363/363 [==============================] - 0s 645us/step - loss: 0.3554 - mae: 0.4229 - val_loss: 0.3798 - val_mae: 0.4133\n",
      "Epoch 12/40\n",
      "363/363 [==============================] - 0s 648us/step - loss: 0.3549 - mae: 0.4229 - val_loss: 0.7125 - val_mae: 0.4241\n",
      "Epoch 13/40\n",
      "363/363 [==============================] - 0s 642us/step - loss: 0.3574 - mae: 0.4226 - val_loss: 0.4348 - val_mae: 0.4192\n",
      "Epoch 14/40\n",
      "363/363 [==============================] - 0s 639us/step - loss: 0.3539 - mae: 0.4220 - val_loss: 0.4377 - val_mae: 0.4172\n",
      "Epoch 15/40\n",
      "363/363 [==============================] - 0s 639us/step - loss: 0.3533 - mae: 0.4210 - val_loss: 0.3773 - val_mae: 0.4147\n",
      "Epoch 16/40\n",
      "363/363 [==============================] - 0s 686us/step - loss: 0.3519 - mae: 0.4212 - val_loss: 0.3553 - val_mae: 0.4112\n",
      "Epoch 17/40\n",
      "363/363 [==============================] - 0s 637us/step - loss: 0.3507 - mae: 0.4203 - val_loss: 0.3682 - val_mae: 0.4113\n",
      "Epoch 18/40\n",
      "363/363 [==============================] - 0s 634us/step - loss: 0.3511 - mae: 0.4197 - val_loss: 0.3291 - val_mae: 0.4064\n",
      "Epoch 19/40\n",
      "363/363 [==============================] - 0s 648us/step - loss: 0.3496 - mae: 0.4192 - val_loss: 0.3625 - val_mae: 0.4097\n",
      "Epoch 20/40\n",
      "363/363 [==============================] - 0s 648us/step - loss: 0.3490 - mae: 0.4185 - val_loss: 0.4396 - val_mae: 0.4148\n",
      "Epoch 21/40\n",
      "363/363 [==============================] - 0s 631us/step - loss: 0.3489 - mae: 0.4183 - val_loss: 0.3290 - val_mae: 0.4091\n",
      "Epoch 22/40\n",
      "363/363 [==============================] - 0s 639us/step - loss: 0.3476 - mae: 0.4183 - val_loss: 0.5850 - val_mae: 0.4212\n",
      "Epoch 23/40\n",
      "363/363 [==============================] - 0s 648us/step - loss: 0.3481 - mae: 0.4180 - val_loss: 0.5863 - val_mae: 0.4146\n",
      "Epoch 24/40\n",
      "363/363 [==============================] - 0s 645us/step - loss: 0.3480 - mae: 0.4174 - val_loss: 0.7398 - val_mae: 0.4209\n",
      "Epoch 25/40\n",
      "363/363 [==============================] - 0s 675us/step - loss: 0.3480 - mae: 0.4164 - val_loss: 0.3335 - val_mae: 0.4068\n",
      "Epoch 26/40\n",
      "363/363 [==============================] - 0s 700us/step - loss: 0.3452 - mae: 0.4163 - val_loss: 0.5383 - val_mae: 0.4153\n",
      "Epoch 27/40\n",
      "363/363 [==============================] - 0s 675us/step - loss: 0.3460 - mae: 0.4163 - val_loss: 0.5126 - val_mae: 0.4120\n",
      "Epoch 28/40\n",
      "363/363 [==============================] - 0s 637us/step - loss: 0.3457 - mae: 0.4163 - val_loss: 0.7059 - val_mae: 0.4208\n",
      "Epoch 29/40\n",
      "363/363 [==============================] - 0s 631us/step - loss: 0.3458 - mae: 0.4156 - val_loss: 0.3394 - val_mae: 0.4068\n",
      "Epoch 30/40\n",
      "363/363 [==============================] - 0s 637us/step - loss: 0.3439 - mae: 0.4155 - val_loss: 0.6658 - val_mae: 0.4171\n",
      "Epoch 31/40\n",
      "363/363 [==============================] - 0s 634us/step - loss: 0.3451 - mae: 0.4144 - val_loss: 0.3333 - val_mae: 0.4046\n",
      "Epoch 32/40\n",
      "363/363 [==============================] - 0s 686us/step - loss: 0.3425 - mae: 0.4146 - val_loss: 0.6334 - val_mae: 0.4187\n",
      "Epoch 33/40\n",
      "363/363 [==============================] - 0s 634us/step - loss: 0.3438 - mae: 0.4140 - val_loss: 0.4150 - val_mae: 0.4100\n",
      "Epoch 34/40\n",
      "363/363 [==============================] - 0s 634us/step - loss: 0.3421 - mae: 0.4137 - val_loss: 0.5185 - val_mae: 0.4138\n",
      "Epoch 35/40\n",
      "363/363 [==============================] - 0s 634us/step - loss: 0.3415 - mae: 0.4130 - val_loss: 0.3625 - val_mae: 0.4089\n",
      "Epoch 36/40\n",
      "363/363 [==============================] - 0s 628us/step - loss: 0.3403 - mae: 0.4127 - val_loss: 0.3198 - val_mae: 0.4002\n",
      "Epoch 37/40\n",
      "363/363 [==============================] - 0s 625us/step - loss: 0.3401 - mae: 0.4123 - val_loss: 0.4193 - val_mae: 0.4095\n",
      "Epoch 38/40\n",
      "363/363 [==============================] - 0s 628us/step - loss: 0.3397 - mae: 0.4120 - val_loss: 0.3193 - val_mae: 0.4008\n",
      "Epoch 39/40\n",
      "363/363 [==============================] - 0s 627us/step - loss: 0.3390 - mae: 0.4117 - val_loss: 0.3863 - val_mae: 0.4066\n",
      "Epoch 40/40\n",
      "363/363 [==============================] - 0s 634us/step - loss: 0.3385 - mae: 0.4114 - val_loss: 0.3428 - val_mae: 0.4010\n"
     ]
    }
   ],
   "source": [
    "model_history = model.fit(X_train, y_train, epochs=40,validation_data=(X_valid, y_valid))"
   ]
  },
  {
   "cell_type": "code",
   "execution_count": 38,
   "id": "bacf90d3",
   "metadata": {},
   "outputs": [
    {
     "name": "stdout",
     "output_type": "stream",
     "text": [
      "162/162 [==============================] - 0s 401us/step - loss: 0.3393 - mae: 0.4091\n"
     ]
    }
   ],
   "source": [
    "mae_test = model.evaluate(X_test, y_test)"
   ]
  },
  {
   "cell_type": "code",
   "execution_count": 35,
   "id": "72a3d463",
   "metadata": {},
   "outputs": [
    {
     "data": {
      "text/plain": [
       "{'loss': [1.8870816230773926,\n",
       "  0.6985266804695129,\n",
       "  0.6362205147743225,\n",
       "  0.5830869078636169,\n",
       "  0.5506728887557983,\n",
       "  0.5219724178314209,\n",
       "  0.5008842349052429,\n",
       "  0.4828588366508484,\n",
       "  0.46753668785095215,\n",
       "  0.4557570815086365,\n",
       "  0.4457080364227295,\n",
       "  0.4373014569282532,\n",
       "  0.43016543984413147,\n",
       "  0.4241107404232025,\n",
       "  0.41865482926368713,\n",
       "  0.4140312969684601,\n",
       "  0.4096393585205078,\n",
       "  0.4063641428947449,\n",
       "  0.401676207780838,\n",
       "  0.3986748158931732,\n",
       "  0.3963574171066284,\n",
       "  0.392816960811615,\n",
       "  0.3907949924468994,\n",
       "  0.38828495144844055,\n",
       "  0.38677337765693665,\n",
       "  0.38322705030441284,\n",
       "  0.38248151540756226,\n",
       "  0.3804790675640106,\n",
       "  0.38014087080955505,\n",
       "  0.37710049748420715,\n",
       "  0.3786315619945526,\n",
       "  0.37413617968559265,\n",
       "  0.374658465385437,\n",
       "  0.3716024160385132,\n",
       "  0.3703598082065582,\n",
       "  0.36849135160446167,\n",
       "  0.36766812205314636,\n",
       "  0.36696064472198486,\n",
       "  0.36541205644607544,\n",
       "  0.36433145403862],\n",
       " 'mae': [0.9733277559280396,\n",
       "  0.6180993914604187,\n",
       "  0.5825698971748352,\n",
       "  0.556715726852417,\n",
       "  0.5389419794082642,\n",
       "  0.524651288986206,\n",
       "  0.5130792260169983,\n",
       "  0.503461480140686,\n",
       "  0.49505457282066345,\n",
       "  0.48919859528541565,\n",
       "  0.4823799431324005,\n",
       "  0.47803330421447754,\n",
       "  0.4742469787597656,\n",
       "  0.47002124786376953,\n",
       "  0.4670860171318054,\n",
       "  0.46421635150909424,\n",
       "  0.4613955020904541,\n",
       "  0.45853713154792786,\n",
       "  0.4556283950805664,\n",
       "  0.4535866677761078,\n",
       "  0.451620489358902,\n",
       "  0.45000752806663513,\n",
       "  0.4485446512699127,\n",
       "  0.4463222324848175,\n",
       "  0.44500863552093506,\n",
       "  0.4432121813297272,\n",
       "  0.4423634111881256,\n",
       "  0.4413582980632782,\n",
       "  0.44010329246520996,\n",
       "  0.43914178013801575,\n",
       "  0.4380132257938385,\n",
       "  0.4370001256465912,\n",
       "  0.43569234013557434,\n",
       "  0.4350753426551819,\n",
       "  0.43376147747039795,\n",
       "  0.43310731649398804,\n",
       "  0.43198272585868835,\n",
       "  0.43143901228904724,\n",
       "  0.4306602478027344,\n",
       "  0.4298076629638672],\n",
       " 'val_loss': [0.90463787317276,\n",
       "  1.2191187143325806,\n",
       "  0.6299563646316528,\n",
       "  0.5406023859977722,\n",
       "  0.5568332076072693,\n",
       "  0.5102224946022034,\n",
       "  0.46464088559150696,\n",
       "  0.454103022813797,\n",
       "  0.4536701738834381,\n",
       "  0.41687676310539246,\n",
       "  0.4160970449447632,\n",
       "  0.4056146740913391,\n",
       "  0.3955082297325134,\n",
       "  0.4024001359939575,\n",
       "  0.38607656955718994,\n",
       "  0.40518057346343994,\n",
       "  0.4336138069629669,\n",
       "  0.3743607699871063,\n",
       "  0.36882859468460083,\n",
       "  0.44605210423469543,\n",
       "  0.3684674799442291,\n",
       "  0.47009915113449097,\n",
       "  0.5728673338890076,\n",
       "  0.49628087878227234,\n",
       "  0.3545149266719818,\n",
       "  0.4382387101650238,\n",
       "  0.5781072378158569,\n",
       "  0.5593113303184509,\n",
       "  0.43754422664642334,\n",
       "  0.6150757074356079,\n",
       "  0.46058759093284607,\n",
       "  0.6039433479309082,\n",
       "  0.5072189569473267,\n",
       "  0.4410333037376404,\n",
       "  0.35987576842308044,\n",
       "  0.36772364377975464,\n",
       "  0.4001571238040924,\n",
       "  0.3618379235267639,\n",
       "  0.36457374691963196,\n",
       "  0.3405708074569702],\n",
       " 'val_mae': [0.6529127359390259,\n",
       "  0.5996333360671997,\n",
       "  0.5537415146827698,\n",
       "  0.532604992389679,\n",
       "  0.5180798768997192,\n",
       "  0.5027711987495422,\n",
       "  0.4905173182487488,\n",
       "  0.4809547960758209,\n",
       "  0.47542595863342285,\n",
       "  0.46315839886665344,\n",
       "  0.46283191442489624,\n",
       "  0.45608094334602356,\n",
       "  0.4529220163822174,\n",
       "  0.45183464884757996,\n",
       "  0.44591960310935974,\n",
       "  0.44591692090034485,\n",
       "  0.44363802671432495,\n",
       "  0.4360247850418091,\n",
       "  0.4334753751754761,\n",
       "  0.44006896018981934,\n",
       "  0.43547743558883667,\n",
       "  0.4394003450870514,\n",
       "  0.43523475527763367,\n",
       "  0.4345759153366089,\n",
       "  0.42591992020606995,\n",
       "  0.43086564540863037,\n",
       "  0.43281498551368713,\n",
       "  0.435651957988739,\n",
       "  0.4305393099784851,\n",
       "  0.4328492283821106,\n",
       "  0.42844250798225403,\n",
       "  0.43524375557899475,\n",
       "  0.4299947917461395,\n",
       "  0.4263748228549957,\n",
       "  0.42265835404396057,\n",
       "  0.4190872013568878,\n",
       "  0.42295461893081665,\n",
       "  0.41914039850234985,\n",
       "  0.41843652725219727,\n",
       "  0.4131787121295929]}"
      ]
     },
     "execution_count": 35,
     "metadata": {},
     "output_type": "execute_result"
    }
   ],
   "source": [
    "model_history.history"
   ]
  },
  {
   "cell_type": "code",
   "execution_count": 36,
   "id": "27a150fc",
   "metadata": {},
   "outputs": [
    {
     "data": {
      "image/png": "[encoded data removed]",
      "text/plain": [
       "<Figure size 576x360 with 1 Axes>"
      ]
     },
     "metadata": {
      "needs_background": "light"
     },
     "output_type": "display_data"
    }
   ],
   "source": [
    "pd.DataFrame(model_history.history).plot(figsize=(8, 5))\n",
    "plt.grid(True)\n",
    "plt.gca().set_ylim(0, 1)\n",
    "\n",
    "plt.show()"
   ]
  },
  {
   "cell_type": "markdown",
   "id": "9f9a5f73",
   "metadata": {},
   "source": [
    "# Saving and Restoring"
   ]
  },
  {
   "cell_type": "code",
   "execution_count": 39,
   "id": "c34bc387",
   "metadata": {},
   "outputs": [],
   "source": [
    "model.save(\"my_Func_model.h5\")"
   ]
  },
  {
   "cell_type": "code",
   "execution_count": 40,
   "id": "99783020",
   "metadata": {},
   "outputs": [
    {
     "data": {
      "text/plain": [
       "'C:\\\\Users\\\\Usuario'"
      ]
     },
     "execution_count": 40,
     "metadata": {},
     "output_type": "execute_result"
    }
   ],
   "source": [
    "%pwd"
   ]
  },
  {
   "cell_type": "code",
   "execution_count": 41,
   "id": "98237ca7",
   "metadata": {},
   "outputs": [],
   "source": [
    "del model"
   ]
  },
  {
   "cell_type": "code",
   "execution_count": 42,
   "id": "357c6a4a",
   "metadata": {},
   "outputs": [],
   "source": [
    "keras.backend.clear_session()"
   ]
  },
  {
   "cell_type": "code",
   "execution_count": 43,
   "id": "1ae89ce0",
   "metadata": {},
   "outputs": [],
   "source": [
    "model = keras.models.load_model(\"my_Func_model.h5\")"
   ]
  },
  {
   "cell_type": "code",
   "execution_count": 44,
   "id": "0bd35209",
   "metadata": {},
   "outputs": [
    {
     "name": "stdout",
     "output_type": "stream",
     "text": [
      "Model: \"functional_1\"\n",
      "__________________________________________________________________________________________________\n",
      "Layer (type)                    Output Shape         Param #     Connected to                     \n",
      "==================================================================================================\n",
      "input_2 (InputLayer)            [(None, 8)]          0                                            \n",
      "__________________________________________________________________________________________________\n",
      "dense_2 (Dense)                 (None, 30)           270         input_2[0][0]                    \n",
      "__________________________________________________________________________________________________\n",
      "dense_3 (Dense)                 (None, 30)           930         dense_2[0][0]                    \n",
      "__________________________________________________________________________________________________\n",
      "concatenate (Concatenate)       (None, 38)           0           input_2[0][0]                    \n",
      "                                                                 dense_3[0][0]                    \n",
      "__________________________________________________________________________________________________\n",
      "dense_4 (Dense)                 (None, 1)            39          concatenate[0][0]                \n",
      "==================================================================================================\n",
      "Total params: 1,239\n",
      "Trainable params: 1,239\n",
      "Non-trainable params: 0\n",
      "__________________________________________________________________________________________________\n"
     ]
    }
   ],
   "source": [
    "model.summary()"
   ]
  },
  {
   "cell_type": "code",
   "execution_count": 45,
   "id": "0fbca686",
   "metadata": {},
   "outputs": [
    {
     "name": "stdout",
     "output_type": "stream",
     "text": [
      "[[0.73897976]\n",
      " [1.6413093 ]\n",
      " [4.1943116 ]]\n"
     ]
    }
   ],
   "source": [
    "y_pred = model.predict(X_new)\n",
    "print (y_pred)"
   ]
  },
  {
   "cell_type": "markdown",
   "id": "902125ff",
   "metadata": {},
   "source": [
    "# Using Callbacks during Training"
   ]
  },
  {
   "cell_type": "code",
   "execution_count": 46,
   "id": "0bc4c316",
   "metadata": {},
   "outputs": [],
   "source": [
    "keras.backend.clear_session()\n",
    "np.random.seed(42)\n",
    "tf.random.set_seed(42)"
   ]
  },
  {
   "cell_type": "code",
   "execution_count": 47,
   "id": "56b2ca50",
   "metadata": {},
   "outputs": [],
   "source": [
    "model = keras.models.Sequential([\n",
    "    keras.layers.Dense(30, activation=\"relu\", input_shape=[8]),\n",
    "    keras.layers.Dense(30, activation=\"relu\"),\n",
    "    keras.layers.Dense(1)\n",
    "])"
   ]
  },
  {
   "cell_type": "code",
   "execution_count": 48,
   "id": "4471509d",
   "metadata": {},
   "outputs": [],
   "source": [
    "model.compile(loss=\"mse\", optimizer=keras.optimizers.SGD(lr=1e-3))"
   ]
  },
  {
   "cell_type": "code",
   "execution_count": 49,
   "id": "9b1b48a0",
   "metadata": {},
   "outputs": [],
   "source": [
    "checkpoint_cb = keras.callbacks.ModelCheckpoint(\"Model-{epoch:02d}.h5\")"
   ]
  },
  {
   "cell_type": "code",
   "execution_count": 50,
   "id": "7baa1af5",
   "metadata": {},
   "outputs": [
    {
     "name": "stdout",
     "output_type": "stream",
     "text": [
      "Epoch 1/10\n",
      "363/363 [==============================] - 0s 843us/step - loss: 1.8866 - val_loss: 0.7126\n",
      "Epoch 2/10\n",
      "363/363 [==============================] - 0s 638us/step - loss: 0.6577 - val_loss: 0.6880\n",
      "Epoch 3/10\n",
      "363/363 [==============================] - 0s 634us/step - loss: 0.5934 - val_loss: 0.5803\n",
      "Epoch 4/10\n",
      "363/363 [==============================] - 0s 607us/step - loss: 0.5557 - val_loss: 0.5166\n",
      "Epoch 5/10\n",
      "363/363 [==============================] - 0s 625us/step - loss: 0.5272 - val_loss: 0.4895\n",
      "Epoch 6/10\n",
      "363/363 [==============================] - 0s 606us/step - loss: 0.5033 - val_loss: 0.4951\n",
      "Epoch 7/10\n",
      "363/363 [==============================] - 0s 603us/step - loss: 0.4854 - val_loss: 0.4861\n",
      "Epoch 8/10\n",
      "363/363 [==============================] - 0s 598us/step - loss: 0.4709 - val_loss: 0.4554\n",
      "Epoch 9/10\n",
      "363/363 [==============================] - 0s 613us/step - loss: 0.4578 - val_loss: 0.4413\n",
      "Epoch 10/10\n",
      "363/363 [==============================] - 0s 625us/step - loss: 0.4474 - val_loss: 0.4379\n"
     ]
    }
   ],
   "source": [
    "history = model.fit(X_train, y_train, epochs=10,\n",
    "                   validation_data=(X_valid, y_valid),\n",
    "                   callbacks=[checkpoint_cb])"
   ]
  },
  {
   "cell_type": "code",
   "execution_count": 51,
   "id": "5f70d518",
   "metadata": {},
   "outputs": [],
   "source": [
    "del model\n",
    "keras.backend.clear_session()"
   ]
  },
  {
   "cell_type": "code",
   "execution_count": 53,
   "id": "50f5999a",
   "metadata": {},
   "outputs": [],
   "source": [
    "model = keras.models.load_model(\"my_Func_model.h5\")"
   ]
  },
  {
   "cell_type": "code",
   "execution_count": 54,
   "id": "a2d2f86f",
   "metadata": {},
   "outputs": [
    {
     "name": "stdout",
     "output_type": "stream",
     "text": [
      "162/162 [==============================] - 0s 414us/step - loss: 0.3393 - mean_absolute_error: 0.4091\n"
     ]
    }
   ],
   "source": [
    "mse_test = model.evaluate(X_test, y_test)"
   ]
  },
  {
   "cell_type": "markdown",
   "id": "24cd0f44",
   "metadata": {},
   "source": [
    "# Best Model Only"
   ]
  },
  {
   "cell_type": "code",
   "execution_count": 55,
   "id": "f0a52761",
   "metadata": {},
   "outputs": [],
   "source": [
    "del model\n",
    "keras.backend.clear_session()"
   ]
  },
  {
   "cell_type": "code",
   "execution_count": 56,
   "id": "0a8267ff",
   "metadata": {},
   "outputs": [],
   "source": [
    "model = keras.models.Sequential([\n",
    "    keras.layers.Dense(30, activation=\"relu\", input_shape=[8]),\n",
    "    keras.layers.Dense(30, activation=\"relu\"),\n",
    "    keras.layers.Dense(1)\n",
    "])"
   ]
  },
  {
   "cell_type": "code",
   "execution_count": 57,
   "id": "f33ae637",
   "metadata": {},
   "outputs": [],
   "source": [
    "model.compile(loss=\"mse\", optimizer=keras.optimizers.SGD(lr=1e-3))"
   ]
  },
  {
   "cell_type": "code",
   "execution_count": 58,
   "id": "7a08667f",
   "metadata": {},
   "outputs": [],
   "source": [
    "checkpoint_cb = keras.callbacks.ModelCheckpoint(\"Best_Model.h5\", save_best_only=True)"
   ]
  },
  {
   "cell_type": "code",
   "execution_count": 59,
   "id": "c800dea1",
   "metadata": {},
   "outputs": [
    {
     "name": "stdout",
     "output_type": "stream",
     "text": [
      "Epoch 1/10\n",
      "363/363 [==============================] - 0s 835us/step - loss: 1.4581 - val_loss: 0.7883\n",
      "Epoch 2/10\n",
      "363/363 [==============================] - 0s 648us/step - loss: 0.7368 - val_loss: 0.7306\n",
      "Epoch 3/10\n",
      "363/363 [==============================] - 0s 635us/step - loss: 0.6516 - val_loss: 0.6501\n",
      "Epoch 4/10\n",
      "363/363 [==============================] - 0s 633us/step - loss: 0.5951 - val_loss: 0.5551\n",
      "Epoch 5/10\n",
      "363/363 [==============================] - 0s 620us/step - loss: 0.5536 - val_loss: 0.5025\n",
      "Epoch 6/10\n",
      "363/363 [==============================] - 0s 620us/step - loss: 0.5199 - val_loss: 0.4728\n",
      "Epoch 7/10\n",
      "363/363 [==============================] - 0s 631us/step - loss: 0.4940 - val_loss: 0.4497\n",
      "Epoch 8/10\n",
      "363/363 [==============================] - 0s 730us/step - loss: 0.4730 - val_loss: 0.4359\n",
      "Epoch 9/10\n",
      "363/363 [==============================] - 0s 648us/step - loss: 0.4563 - val_loss: 0.4267\n",
      "Epoch 10/10\n",
      "363/363 [==============================] - 0s 617us/step - loss: 0.4431 - val_loss: 0.4224\n"
     ]
    }
   ],
   "source": [
    "history = model.fit(X_train, y_train, epochs=10,\n",
    "                   validation_data=(X_valid, y_valid),\n",
    "                   callbacks=[checkpoint_cb])"
   ]
  },
  {
   "cell_type": "code",
   "execution_count": 60,
   "id": "8e39f646",
   "metadata": {},
   "outputs": [
    {
     "name": "stdout",
     "output_type": "stream",
     "text": [
      "162/162 [==============================] - 0s 407us/step - loss: 0.4366\n"
     ]
    }
   ],
   "source": [
    "model = keras.models.load_model(\"Best_Model.h5\")\n",
    "mse_test = model.evaluate(X_test, y_test)"
   ]
  },
  {
   "cell_type": "code",
   "execution_count": null,
   "id": "7e671714",
   "metadata": {},
   "outputs": [],
   "source": []
  }
 ],
 "metadata": {
  "kernelspec": {
   "display_name": "Python 3",
   "language": "python",
   "name": "python3"
  },
  "language_info": {
   "codemirror_mode": {
    "name": "ipython",
    "version": 3
   },
   "file_extension": ".py",
   "mimetype": "text/x-python",
   "name": "python",
   "nbconvert_exporter": "python",
   "pygments_lexer": "ipython3",
   "version": "3.7.10"
  }
 },
 "nbformat": 4,
 "nbformat_minor": 5
}
