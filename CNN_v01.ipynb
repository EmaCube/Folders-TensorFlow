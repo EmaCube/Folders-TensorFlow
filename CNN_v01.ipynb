{
 "cells": [
  {
   "cell_type": "code",
   "execution_count": 2,
   "id": "a65c3d70",
   "metadata": {},
   "outputs": [],
   "source": [
    "import numpy as np\n",
    "import pandas as pd\n",
    "%matplotlib inline\n",
    "import matplotlib as mpl\n",
    "import matplotlib.pyplot as plt"
   ]
  },
  {
   "cell_type": "code",
   "execution_count": 3,
   "id": "6ba69e74",
   "metadata": {},
   "outputs": [],
   "source": [
    "import tensorflow as tf\n",
    "from tensorflow import keras"
   ]
  },
  {
   "cell_type": "code",
   "execution_count": 4,
   "id": "53ab8446",
   "metadata": {},
   "outputs": [],
   "source": [
    "fashion_mnist = keras.datasets.fashion_mnist\n",
    "(X_train_full, y_train_full), (X_test, y_test) = fashion_mnist.load_data()"
   ]
  },
  {
   "cell_type": "code",
   "execution_count": 5,
   "id": "6e091ee4",
   "metadata": {},
   "outputs": [],
   "source": [
    "class_names = [\"T-shirt/top\", \"Trouser\", \"Pullover\", \"Dress\", \"Coat\",\n",
    "              \"Sandal\", \"Shirt\", \"Sneaker\", \"Bag\", \"Ankle boot\"]"
   ]
  },
  {
   "cell_type": "markdown",
   "id": "278ace6c",
   "metadata": {},
   "source": [
    "# Data Reshape"
   ]
  },
  {
   "cell_type": "code",
   "execution_count": 6,
   "id": "dfb104a5",
   "metadata": {},
   "outputs": [],
   "source": [
    "X_train_full = X_train_full.reshape((60000, 28, 28, 1))\n",
    "X_test = X_test.reshape((10000, 28, 28, 1))"
   ]
  },
  {
   "cell_type": "markdown",
   "id": "651bc516",
   "metadata": {},
   "source": [
    "# Data normalization\n",
    "\n",
    "We then normaize the data dimensions so that they are of aproximately the same scale"
   ]
  },
  {
   "cell_type": "code",
   "execution_count": 7,
   "id": "a4520251",
   "metadata": {},
   "outputs": [],
   "source": [
    "X_train_n = X_train_full / 255.\n",
    "X_test_n = X_test / 255."
   ]
  },
  {
   "cell_type": "markdown",
   "id": "cded2424",
   "metadata": {},
   "source": [
    "# Split the data into train/validation/test datasets"
   ]
  },
  {
   "cell_type": "code",
   "execution_count": 8,
   "id": "4da8514a",
   "metadata": {},
   "outputs": [],
   "source": [
    "X_valid, X_train = X_train_n[:5000], X_train_n[5000:]\n",
    "y_valid, y_train = y_train_full[:5000], y_train_full[5000:]\n",
    "X_test = X_test_n"
   ]
  },
  {
   "cell_type": "markdown",
   "id": "47456e61",
   "metadata": {},
   "source": [
    "# Create the model architecture"
   ]
  },
  {
   "cell_type": "code",
   "execution_count": 9,
   "id": "1576ed33",
   "metadata": {},
   "outputs": [],
   "source": [
    "np.random.seed(42)\n",
    "tf.random.set_seed(42)"
   ]
  },
  {
   "cell_type": "code",
   "execution_count": 10,
   "id": "bd873eac",
   "metadata": {},
   "outputs": [],
   "source": [
    "model = keras.models.Sequential()\n",
    "model.add(keras.layers.Conv2D(filters = 32, kernel_size = (3, 3), strides=1, padding='valid', activation='relu',input_shape=(28, 28, 1)))\n",
    "model.add(keras.layers.MaxPooling2D((2, 2)))\n",
    "\n",
    "model.add(keras.layers.Flatten())\n",
    "model.add(keras.layers.Dense(300, activation='relu'))\n",
    "model.add(keras.layers.Dense(100, activation='relu'))\n",
    "model.add(keras.layers.Dense(10, activation='softmax'))"
   ]
  },
  {
   "cell_type": "code",
   "execution_count": 11,
   "id": "68fdb0a0",
   "metadata": {},
   "outputs": [
    {
     "name": "stdout",
     "output_type": "stream",
     "text": [
      "Model: \"sequential\"\n",
      "_________________________________________________________________\n",
      "Layer (type)                 Output Shape              Param #   \n",
      "=================================================================\n",
      "conv2d (Conv2D)              (None, 26, 26, 32)        320       \n",
      "_________________________________________________________________\n",
      "max_pooling2d (MaxPooling2D) (None, 13, 13, 32)        0         \n",
      "_________________________________________________________________\n",
      "flatten (Flatten)            (None, 5408)              0         \n",
      "_________________________________________________________________\n",
      "dense (Dense)                (None, 300)               1622700   \n",
      "_________________________________________________________________\n",
      "dense_1 (Dense)              (None, 100)               30100     \n",
      "_________________________________________________________________\n",
      "dense_2 (Dense)              (None, 10)                1010      \n",
      "=================================================================\n",
      "Total params: 1,654,130\n",
      "Trainable params: 1,654,130\n",
      "Non-trainable params: 0\n",
      "_________________________________________________________________\n"
     ]
    }
   ],
   "source": [
    "model.summary()"
   ]
  },
  {
   "cell_type": "code",
   "execution_count": 12,
   "id": "60faa0a1",
   "metadata": {},
   "outputs": [],
   "source": [
    "model.compile(loss=\"sparse_categorical_crossentropy\",\n",
    "             optimizer=\"sgd\",\n",
    "             metrics=[\"accuracy\"])"
   ]
  },
  {
   "cell_type": "code",
   "execution_count": 13,
   "id": "813c5432",
   "metadata": {},
   "outputs": [
    {
     "name": "stdout",
     "output_type": "stream",
     "text": [
      "Epoch 1/30\n",
      "860/860 [==============================] - 19s 22ms/step - loss: 0.8766 - accuracy: 0.6991 - val_loss: 0.7492 - val_accuracy: 0.7352\n",
      "Epoch 2/30\n",
      "860/860 [==============================] - 18s 20ms/step - loss: 0.5390 - accuracy: 0.8051 - val_loss: 0.4951 - val_accuracy: 0.8182\n",
      "Epoch 3/30\n",
      "860/860 [==============================] - 18s 20ms/step - loss: 0.4812 - accuracy: 0.8258 - val_loss: 0.8887 - val_accuracy: 0.7128\n",
      "Epoch 4/30\n",
      "860/860 [==============================] - 17s 20ms/step - loss: 0.4442 - accuracy: 0.8415 - val_loss: 0.4138 - val_accuracy: 0.8580\n",
      "Epoch 5/30\n",
      "860/860 [==============================] - 18s 20ms/step - loss: 0.4202 - accuracy: 0.8500 - val_loss: 0.4376 - val_accuracy: 0.8466\n",
      "Epoch 6/30\n",
      "860/860 [==============================] - 18s 20ms/step - loss: 0.3963 - accuracy: 0.8581 - val_loss: 0.3794 - val_accuracy: 0.8688\n",
      "Epoch 7/30\n",
      "860/860 [==============================] - 18s 20ms/step - loss: 0.3788 - accuracy: 0.8659 - val_loss: 0.4116 - val_accuracy: 0.8522\n",
      "Epoch 8/30\n",
      "860/860 [==============================] - 18s 21ms/step - loss: 0.3638 - accuracy: 0.8691 - val_loss: 0.5075 - val_accuracy: 0.8138\n",
      "Epoch 9/30\n",
      "860/860 [==============================] - 18s 20ms/step - loss: 0.3496 - accuracy: 0.8736 - val_loss: 0.3745 - val_accuracy: 0.8644\n",
      "Epoch 10/30\n",
      "860/860 [==============================] - 18s 20ms/step - loss: 0.3376 - accuracy: 0.8779 - val_loss: 0.3878 - val_accuracy: 0.8560\n",
      "Epoch 11/30\n",
      "860/860 [==============================] - 17s 20ms/step - loss: 0.3254 - accuracy: 0.8818 - val_loss: 0.3465 - val_accuracy: 0.8762\n",
      "Epoch 12/30\n",
      "860/860 [==============================] - 18s 20ms/step - loss: 0.3141 - accuracy: 0.8863 - val_loss: 0.3254 - val_accuracy: 0.8872\n",
      "Epoch 13/30\n",
      "860/860 [==============================] - 18s 21ms/step - loss: 0.3069 - accuracy: 0.8887 - val_loss: 0.3325 - val_accuracy: 0.8864\n",
      "Epoch 14/30\n",
      "860/860 [==============================] - 18s 20ms/step - loss: 0.2985 - accuracy: 0.8906 - val_loss: 0.3988 - val_accuracy: 0.8514\n",
      "Epoch 15/30\n",
      "860/860 [==============================] - 18s 20ms/step - loss: 0.2905 - accuracy: 0.8943 - val_loss: 0.3782 - val_accuracy: 0.8650\n",
      "Epoch 16/30\n",
      "860/860 [==============================] - 18s 21ms/step - loss: 0.2840 - accuracy: 0.8966 - val_loss: 0.2947 - val_accuracy: 0.8944\n",
      "Epoch 17/30\n",
      "860/860 [==============================] - 18s 20ms/step - loss: 0.2762 - accuracy: 0.8993 - val_loss: 0.4088 - val_accuracy: 0.8610\n",
      "Epoch 18/30\n",
      "860/860 [==============================] - 17s 20ms/step - loss: 0.2709 - accuracy: 0.9010 - val_loss: 0.3553 - val_accuracy: 0.8728\n",
      "Epoch 19/30\n",
      "860/860 [==============================] - 17s 20ms/step - loss: 0.2647 - accuracy: 0.9038 - val_loss: 0.3124 - val_accuracy: 0.8878\n",
      "Epoch 20/30\n",
      "860/860 [==============================] - 18s 21ms/step - loss: 0.2594 - accuracy: 0.9048 - val_loss: 0.3189 - val_accuracy: 0.8844\n",
      "Epoch 21/30\n",
      "860/860 [==============================] - 18s 20ms/step - loss: 0.2532 - accuracy: 0.9082 - val_loss: 0.2838 - val_accuracy: 0.8990\n",
      "Epoch 22/30\n",
      "860/860 [==============================] - 18s 20ms/step - loss: 0.2480 - accuracy: 0.9089 - val_loss: 0.2841 - val_accuracy: 0.8978\n",
      "Epoch 23/30\n",
      "860/860 [==============================] - 18s 21ms/step - loss: 0.2427 - accuracy: 0.9108 - val_loss: 0.2769 - val_accuracy: 0.9030\n",
      "Epoch 24/30\n",
      "860/860 [==============================] - 17s 20ms/step - loss: 0.2377 - accuracy: 0.9133 - val_loss: 0.2949 - val_accuracy: 0.8926\n",
      "Epoch 25/30\n",
      "860/860 [==============================] - 17s 20ms/step - loss: 0.2334 - accuracy: 0.9154 - val_loss: 0.2945 - val_accuracy: 0.8938\n",
      "Epoch 26/30\n",
      "860/860 [==============================] - 17s 19ms/step - loss: 0.2298 - accuracy: 0.9159 - val_loss: 0.2781 - val_accuracy: 0.9034\n",
      "Epoch 27/30\n",
      "860/860 [==============================] - 17s 19ms/step - loss: 0.2254 - accuracy: 0.9179 - val_loss: 0.2764 - val_accuracy: 0.8990\n",
      "Epoch 28/30\n",
      "860/860 [==============================] - 17s 19ms/step - loss: 0.2207 - accuracy: 0.9185 - val_loss: 0.3038 - val_accuracy: 0.8924\n",
      "Epoch 29/30\n",
      "860/860 [==============================] - 17s 19ms/step - loss: 0.2157 - accuracy: 0.9210 - val_loss: 0.2712 - val_accuracy: 0.9024\n",
      "Epoch 30/30\n",
      "860/860 [==============================] - 17s 19ms/step - loss: 0.2125 - accuracy: 0.9219 - val_loss: 0.2757 - val_accuracy: 0.9020\n"
     ]
    }
   ],
   "source": [
    "model_history = model.fit(X_train, y_train, epochs=30, batch_size=64,\n",
    "                         validation_data=(X_valid, y_valid))"
   ]
  },
  {
   "cell_type": "code",
   "execution_count": 14,
   "id": "cf47b91c",
   "metadata": {},
   "outputs": [
    {
     "data": {
      "image/png": "[encoded data removed]",
      "text/plain": [
       "<Figure size 576x360 with 1 Axes>"
      ]
     },
     "metadata": {
      "needs_background": "light"
     },
     "output_type": "display_data"
    }
   ],
   "source": [
    "import pandas as pd\n",
    "\n",
    "pd.DataFrame(model_history.history).plot(figsize=(8, 5))\n",
    "plt.grid(True)\n",
    "plt.gca().set_ylim(0, 1)\n",
    "plt.show()"
   ]
  },
  {
   "cell_type": "code",
   "execution_count": 16,
   "id": "15ae6514",
   "metadata": {},
   "outputs": [
    {
     "name": "stdout",
     "output_type": "stream",
     "text": [
      "313/313 [==============================] - 1s 3ms/step - loss: 0.2862 - accuracy: 0.8973\n"
     ]
    }
   ],
   "source": [
    "ev = model.evaluate(X_test_n, y_test)"
   ]
  },
  {
   "cell_type": "code",
   "execution_count": 17,
   "id": "4c06e171",
   "metadata": {},
   "outputs": [
    {
     "data": {
      "text/plain": [
       "[0.2862228453159332, 0.8973000049591064]"
      ]
     },
     "execution_count": 17,
     "metadata": {},
     "output_type": "execute_result"
    }
   ],
   "source": [
    "ev"
   ]
  },
  {
   "cell_type": "code",
   "execution_count": 18,
   "id": "2dae7f90",
   "metadata": {},
   "outputs": [],
   "source": [
    "X_new = X_test[:3]"
   ]
  },
  {
   "cell_type": "code",
   "execution_count": 19,
   "id": "65d10dcc",
   "metadata": {},
   "outputs": [
    {
     "name": "stdout",
     "output_type": "stream",
     "text": [
      "WARNING:tensorflow:From <ipython-input-19-81ace37e545f>:1: Sequential.predict_classes (from tensorflow.python.keras.engine.sequential) is deprecated and will be removed after 2021-01-01.\n",
      "Instructions for updating:\n",
      "Please use instead:* `np.argmax(model.predict(x), axis=-1)`,   if your model does multi-class classification   (e.g. if it uses a `softmax` last-layer activation).* `(model.predict(x) > 0.5).astype(\"int32\")`,   if your model does binary classification   (e.g. if it uses a `sigmoid` last-layer activation).\n"
     ]
    },
    {
     "data": {
      "text/plain": [
       "array([9, 2, 1], dtype=int64)"
      ]
     },
     "execution_count": 19,
     "metadata": {},
     "output_type": "execute_result"
    }
   ],
   "source": [
    "y_pred = model.predict_classes(X_new)\n",
    "y_pred"
   ]
  },
  {
   "cell_type": "code",
   "execution_count": 20,
   "id": "c5eb4aff",
   "metadata": {},
   "outputs": [
    {
     "data": {
      "text/plain": [
       "array([9, 2, 1], dtype=uint8)"
      ]
     },
     "execution_count": 20,
     "metadata": {},
     "output_type": "execute_result"
    }
   ],
   "source": [
    "y_test[:3]"
   ]
  },
  {
   "cell_type": "code",
   "execution_count": 21,
   "id": "e178f1ce",
   "metadata": {},
   "outputs": [
    {
     "name": "stdout",
     "output_type": "stream",
     "text": [
      "AxesImage(54,36;334.8x217.44)\n"
     ]
    },
    {
     "data": {
      "image/png": "[encoded data removed]",
      "text/plain": [
       "<Figure size 432x288 with 1 Axes>"
      ]
     },
     "metadata": {
      "needs_background": "light"
     },
     "output_type": "display_data"
    }
   ],
   "source": [
    "print(plt.imshow(X_test[0].reshape((28,28))))"
   ]
  },
  {
   "cell_type": "markdown",
   "id": "fcb34c67",
   "metadata": {},
   "source": [
    "# Pooling vs No Pooling"
   ]
  },
  {
   "cell_type": "code",
   "execution_count": 22,
   "id": "cf775740",
   "metadata": {},
   "outputs": [],
   "source": [
    "model_a = keras.models.Sequential()\n",
    "model_a.add(keras.layers.Conv2D(filters = 32, kernel_size = (3, 3), strides=1, padding='valid', activation='relu',input_shape=(28, 28, 1)))\n",
    "model_a.add(keras.layers.MaxPooling2D((2, 2)))\n",
    "model_a.add(keras.layers.Flatten())\n",
    "model_a.add(keras.layers.Dense(300, activation='relu'))\n",
    "model_a.add(keras.layers.Dense(100, activation='relu'))\n",
    "model_a.add(keras.layers.Dense(10, activation='softmax'))\n",
    "\n",
    "model_b = keras.models.Sequential()\n",
    "model_b.add(keras.layers.Conv2D(filters = 32, kernel_size = (3, 3), strides=1, padding='valid', activation='relu',input_shape=(28, 28, 1)))\n",
    "model_b.add(keras.layers.Flatten())\n",
    "model_b.add(keras.layers.Dense(300, activation='relu'))\n",
    "model_b.add(keras.layers.Dense(100, activation='relu'))\n",
    "model_b.add(keras.layers.Dense(10, activation='softmax'))"
   ]
  },
  {
   "cell_type": "code",
   "execution_count": 23,
   "id": "0518d884",
   "metadata": {},
   "outputs": [
    {
     "name": "stdout",
     "output_type": "stream",
     "text": [
      "Model: \"sequential_1\"\n",
      "_________________________________________________________________\n",
      "Layer (type)                 Output Shape              Param #   \n",
      "=================================================================\n",
      "conv2d_1 (Conv2D)            (None, 26, 26, 32)        320       \n",
      "_________________________________________________________________\n",
      "max_pooling2d_1 (MaxPooling2 (None, 13, 13, 32)        0         \n",
      "_________________________________________________________________\n",
      "flatten_1 (Flatten)          (None, 5408)              0         \n",
      "_________________________________________________________________\n",
      "dense_3 (Dense)              (None, 300)               1622700   \n",
      "_________________________________________________________________\n",
      "dense_4 (Dense)              (None, 100)               30100     \n",
      "_________________________________________________________________\n",
      "dense_5 (Dense)              (None, 10)                1010      \n",
      "=================================================================\n",
      "Total params: 1,654,130\n",
      "Trainable params: 1,654,130\n",
      "Non-trainable params: 0\n",
      "_________________________________________________________________\n"
     ]
    }
   ],
   "source": [
    "model_a.summary()"
   ]
  },
  {
   "cell_type": "code",
   "execution_count": 24,
   "id": "aa17ca0c",
   "metadata": {},
   "outputs": [
    {
     "name": "stdout",
     "output_type": "stream",
     "text": [
      "Model: \"sequential_2\"\n",
      "_________________________________________________________________\n",
      "Layer (type)                 Output Shape              Param #   \n",
      "=================================================================\n",
      "conv2d_2 (Conv2D)            (None, 26, 26, 32)        320       \n",
      "_________________________________________________________________\n",
      "flatten_2 (Flatten)          (None, 21632)             0         \n",
      "_________________________________________________________________\n",
      "dense_6 (Dense)              (None, 300)               6489900   \n",
      "_________________________________________________________________\n",
      "dense_7 (Dense)              (None, 100)               30100     \n",
      "_________________________________________________________________\n",
      "dense_8 (Dense)              (None, 10)                1010      \n",
      "=================================================================\n",
      "Total params: 6,521,330\n",
      "Trainable params: 6,521,330\n",
      "Non-trainable params: 0\n",
      "_________________________________________________________________\n"
     ]
    }
   ],
   "source": [
    "model_b.summary()"
   ]
  },
  {
   "cell_type": "code",
   "execution_count": 25,
   "id": "255b5e6d",
   "metadata": {},
   "outputs": [],
   "source": [
    "model_a.compile(loss=\"sparse_categorical_crossentropy\",\n",
    "               optimizer=\"sgd\",\n",
    "               metrics=[\"accuracy\"])\n",
    "\n",
    "model_b.compile(loss=\"sparse_categorical_crossentropy\",\n",
    "               optimizer=\"sgd\",\n",
    "               metrics=[\"accuracy\"])"
   ]
  },
  {
   "cell_type": "code",
   "execution_count": 27,
   "id": "1bf4176c",
   "metadata": {},
   "outputs": [
    {
     "name": "stdout",
     "output_type": "stream",
     "text": [
      "Epoch 1/3\n",
      "860/860 [==============================] - 18s 21ms/step - loss: 0.8465 - accuracy: 0.7085 - val_loss: 0.7927 - val_accuracy: 0.7100\n",
      "Epoch 2/3\n",
      "860/860 [==============================] - 19s 22ms/step - loss: 0.5357 - accuracy: 0.8067 - val_loss: 0.4955 - val_accuracy: 0.8100\n",
      "Epoch 3/3\n",
      "860/860 [==============================] - 18s 21ms/step - loss: 0.4786 - accuracy: 0.8269 - val_loss: 0.9680 - val_accuracy: 0.6960\n"
     ]
    }
   ],
   "source": [
    "model_history_a = model_a.fit(X_train, y_train, epochs=3,batch_size=64,\n",
    "                             validation_data=(X_valid, y_valid))"
   ]
  },
  {
   "cell_type": "code",
   "execution_count": 29,
   "id": "d2baa512",
   "metadata": {},
   "outputs": [
    {
     "name": "stdout",
     "output_type": "stream",
     "text": [
      "Epoch 1/3\n",
      "860/860 [==============================] - 33s 38ms/step - loss: 0.7398 - accuracy: 0.7452 - val_loss: 0.7276 - val_accuracy: 0.7492\n",
      "Epoch 2/3\n",
      "860/860 [==============================] - 33s 38ms/step - loss: 0.4952 - accuracy: 0.8217 - val_loss: 0.4708 - val_accuracy: 0.8202\n",
      "Epoch 3/3\n",
      "860/860 [==============================] - 33s 39ms/step - loss: 0.4439 - accuracy: 0.8394 - val_loss: 1.0183 - val_accuracy: 0.6948\n"
     ]
    }
   ],
   "source": [
    "model_history_b = model_b.fit(X_train, y_train, epochs=3,batch_size=64,\n",
    "                             validation_data=(X_valid, y_valid))"
   ]
  }
 ],
 "metadata": {
  "kernelspec": {
   "display_name": "Python 3",
   "language": "python",
   "name": "python3"
  },
  "language_info": {
   "codemirror_mode": {
    "name": "ipython",
    "version": 3
   },
   "file_extension": ".py",
   "mimetype": "text/x-python",
   "name": "python",
   "nbconvert_exporter": "python",
   "pygments_lexer": "ipython3",
   "version": "3.7.10"
  }
 },
 "nbformat": 4,
 "nbformat_minor": 5
}
